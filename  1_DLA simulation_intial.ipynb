{
 "cells": [
  {
   "cell_type": "code",
   "execution_count": 24,
   "metadata": {},
   "outputs": [
    {
     "name": "stdout",
     "output_type": "stream",
     "text": [
      "DLA - Diffusion Limited Aggregation Simulation\n",
      "\n",
      "\n",
      "\n",
      "\n",
      "Enter: A number\n",
      "[M] : Dimension to Start with a M x M matrix \n",
      "\n",
      "500\n",
      " [N] :Number of particles to show DLA in the above M x M matrix\n",
      "50000\n",
      "Simulation done. Final Image\n"
     ]
    },
    {
     "data": {
      "image/png": "[encoded data removed]",
      "text/plain": [
       "<Figure size 432x288 with 1 Axes>"
      ]
     },
     "metadata": {
      "needs_background": "light"
     },
     "output_type": "display_data"
    }
   ],
   "source": [
    "import numpy as np\n",
    "import pandas as pd\n",
    "%matplotlib inline\n",
    "import matplotlib.pyplot as plt\n",
    "\n",
    "\n",
    "def LoadAtEdge(dim):  # Find a random point in randomly selected edge to start with\n",
    "\n",
    "    upper_edge = (0,np.random.randint(dim-1))      # select a random point in upper edge\n",
    "    right_edge = (np.random.randint(dim-1),dim-1)  # select a random point in right edge\n",
    "    lower_edge = (dim-1,np.random.randint(dim-1))  # select a random point in lower edge\n",
    "    left_edge = (np.random.randint(dim-1),0)       # select a random point in left edge\n",
    "\n",
    "    all_edges = [upper_edge, right_edge, lower_edge, left_edge ]\n",
    "    random_edge = all_edges[np.random.randint(4)]  # select the random entry point\n",
    "    return random_edge\n",
    "\n",
    "def BrownianMotion(matrix, random_edge):  # Random 2D walk untill a '1' is found in neighbouring cell\n",
    "    \n",
    "    play_the_game = 1\n",
    "    row,col = random_edge\n",
    "    old_cell = random_edge\n",
    "    while play_the_game == 1:\n",
    "        nearby_cells = [(row - 1, col - 1), (row - 1, col), (row - 1, col + 1), (row, col - 1),\n",
    "                        (row, col + 1), (row + 1, col - 1), (row + 1, col), (row + 1, col + 1)] \n",
    "                                                                       # all the possible neighbouring cells \n",
    "        nearby_cells = list(filter(lambda cells : (cells[0] < dim and cells[0] > -1) and (cells[1] < dim and cells[1] > -1), nearby_cells))  \n",
    "                                                                       # ignoring cells which would make particles bounces off the edge\n",
    "        next_move = nearby_cells[np.random.randint(len(nearby_cells))] # randomly select a cell from the remaining possible cells\n",
    "        row,col = next_move\n",
    "        if matrix[next_move] == 1:                                     # if the next move has already one. Stop the flow and load new particle\n",
    "            matrix[old_cell] = 1\n",
    "            play_the_game = 0\n",
    "        for cells in nearby_cells:                                     # stop the random 2D walk if particle encounters another particle in an adjacent cell\n",
    "            if matrix[cells] == 1:                                     # 1 found in adjacent cell\n",
    "                matrix[old_cell] = 1                                   # particle stuck here forever\n",
    "                play_the_game = 0                                      # return back to load the new particle\n",
    "        old_cell = next_move\n",
    "        row,col = next_move\n",
    "    return matrix\n",
    "\n",
    "\n",
    "print ('DLA - Diffusion Limited Aggregation Simulation')\n",
    "print( \"\\n\" )\n",
    "print( \"\\n\" )\n",
    "print( \"Enter: A number\" )\n",
    "print (\"[M] : Dimension to Start with a M x M matrix \\n\" )\n",
    "\n",
    "user_input = input()\n",
    "user_input = user_input.upper()\n",
    "if user_input.isnumeric(): \n",
    "    dim = int(user_input)\n",
    "    print ( \" [N] :Number of particles to show DLA in the above M x M matrix\" )\n",
    "    user_input = input()\n",
    "    if user_input.isnumeric():\n",
    "        particles = int(user_input)\n",
    "    else:\n",
    "        text = \". Terminating program. Try Again!!\"\n",
    "        print( \"You have entered a wrong arugument {}{}\".format(user_input, 'for particles' ))\n",
    "        exit()\n",
    "        \n",
    "else:\n",
    "    text = \". Terminating program. Try Again!!\"\n",
    "    print( \"You have entered a wrong arugument {}{}\".format(user_input, ' size of matrix' ))\n",
    "    exit()\n",
    "\n",
    "\n",
    "def DLAsimulation():  \n",
    "                                                                # start the DLA simulation\n",
    "    matrix = np.zeros((dim, dim), dtype = int)                  # create the empty matrix\n",
    "    matrix[(int(dim/2 -1)), (int(dim/2 -1))] = 1                # set the center to 1\n",
    "    i = 0\n",
    "    while i < particles:                                        # loop for number of particles\n",
    "        i+= 1\n",
    "        random_edge = LoadAtEdge(int(dim))\n",
    "        j = 0\n",
    "        while j < 10:                                           # Just a try to start with a random edge which is not already 1  \n",
    "            j = j + 1\n",
    "            if matrix[random_edge] == 1:                        # try 10 times to select a random edge in case it's already 1\n",
    "                random_edge = LoadAtEdge(dim)\n",
    "            else:\n",
    "                j = 10\n",
    "        #matrix[random_edge] = 1   # set the random point to 1 just to show the start\n",
    "        #plt.imshow(1 - matrix, 'gray')  #show the start of the journey (1- matrix would reverse the matrix for visual purpose)\n",
    "        #plt.show()\n",
    "        #matrix = np.zeros((dim, dim), dtype = int)\n",
    "        #matrix[(int(dim/2 -1)), (int(dim/2 -1))] = 1  # back to normal state\n",
    "    \n",
    "        matrix = BrownianMotion(matrix, random_edge)\n",
    "    print('Simulation done. Final Image')\n",
    "    plt.imshow(1- matrix,'gray')\n",
    "\n",
    "DLAsimulation()"
   ]
  },
  {
   "cell_type": "code",
   "execution_count": null,
   "metadata": {},
   "outputs": [],
   "source": []
  }
 ],
 "metadata": {
  "kernelspec": {
   "display_name": "Python 3",
   "language": "python",
   "name": "python3"
  },
  "language_info": {
   "codemirror_mode": {
    "name": "ipython",
    "version": 3
   },
   "file_extension": ".py",
   "mimetype": "text/x-python",
   "name": "python",
   "nbconvert_exporter": "python",
   "pygments_lexer": "ipython3",
   "version": "3.7.1"
  }
 },
 "nbformat": 4,
 "nbformat_minor": 2
}
